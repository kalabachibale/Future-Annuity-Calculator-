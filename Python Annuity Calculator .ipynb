{
 "cells": [
  {
   "cell_type": "markdown",
   "metadata": {
    "colab_type": "text",
    "id": "Y-iHJCekZ47N"
   },
   "source": [
    "# Project: Python Fundamentals\n",
    "\n",
    "You're appointed as a Software Developer at a new Development agency, \n",
    "\n",
    "In this project, you'll create software to give your clients financial advice."
   ]
  },
  {
   "cell_type": "markdown",
   "metadata": {
    "colab_type": "text",
    "id": "4OBoq2YHkZjj"
   },
   "source": [
    "***\n",
    "*** CODE OF CONDUCT: ***\n",
    "\n",
    "- You may use online resources for help, but you may not directly copy and paste any answers that are not your own.\n",
    "- You may not submit anyone else's work, but your own.\n",
    "- Every project will be sent through plagiarism detection software, and compared with every other project in the class.  If you are suspected of plagiarism you will receive zero for the assignment, together with a first disciplinary warning.\n",
    "\n",
    "***\n",
    "*** PROJECT RULES: ***\n",
    "\n",
    "- You may not import any external packages - all of the functions need to be solved ***WITHOUT THE USE OF EXTERNAL MODULES***.\n",
    "- ***Most importantly:*** your functions need to **`return`** the answer (not just print it out).\n",
    "- ***Do not add or remove any cells from this notebook***.  Use another notebook to experiment in (or in which to do your workings), but your submission may not have any additional cells or functions. \n",
    "- Only fill in code where the **`#YOUR CODE`**  tags appear. No code outside these areas (or outside the given functions) will be marked.\n",
    "\n"
   ]
  },
  {
   "cell_type": "markdown",
   "metadata": {
    "colab_type": "text",
    "id": "53GUiWszhw9R"
   },
   "source": [
    "## Function 1:  Savings Calculator\n",
    "\n",
    "Build a function **`savings_calculator(PMT, n, i)`**` that calculates your customer's savings at retirement, if they:\n",
    "- invest an amount, **`PMT`** at the end of every year (with the first payment in exactly one year's time from now),\n",
    "- for **`n` whole years**\n",
    "- at an interest rate of **`i`**% per year, compounded annually."
   ]
  },
  {
   "cell_type": "code",
   "execution_count": null,
   "metadata": {
    "colab": {
     "autoexec": {
      "startup": false,
      "wait_interval": 0
     }
    },
    "colab_type": "code",
    "id": "o3HGpkBGZZcN"
   },
   "outputs": [],
   "source": [
    "### START FUNCTION 1\n",
    "\n",
    "def savings_calculator(PMT, n, i):\n",
    "    # YOUR CODE HERE  \n",
    "    # Future Value \n",
    "    FV = PMT*((1 + i)**n-1)/i\n",
    "    \n",
    "    #Compounding_Frequency = n - 1\n",
    "    #interest_rate = i / i \n",
    "    #FV = PMT*(1+interest_rate)**Compounding_Frequency\n",
    "    \n",
    "    # Remember to round your answer to 2 decimal places:\n",
    "    FV = round(FV, 2)\n",
    "    return FV\n",
    "### END FUNCTION 1"
   ]
  },
  {
   "cell_type": "markdown",
   "metadata": {
    "colab_type": "text",
    "id": "0Hhs61WVkVfN"
   },
   "source": [
    "***IMPORTANT***: <br>\n",
    "Your function needs to **`return`** an `float` value ***rounded to 2 decimal places***.\n",
    "\n",
    "If your answer is not rounded correctly to 2 decimal places, you will receive 0 for the question.\n",
    "\n",
    "Make sure that the following tests all give a `True` result:"
   ]
  },
  {
   "cell_type": "code",
   "execution_count": null,
   "metadata": {
    "colab": {
     "autoexec": {
      "startup": false,
      "wait_interval": 0
     }
    },
    "colab_type": "code",
    "id": "eAPFgCVAj7JQ"
   },
   "outputs": [],
   "source": [
    "savings_calculator(20000, 15, 0.1) == 635449.63"
   ]
  },
  {
   "cell_type": "code",
   "execution_count": null,
   "metadata": {
    "colab": {
     "autoexec": {
      "startup": false,
      "wait_interval": 0
     }
    },
    "colab_type": "code",
    "id": "CnbJ8HFakDM2"
   },
   "outputs": [],
   "source": [
    "savings_calculator(10000, 20, 0.1) == 572749.99"
   ]
  },
  {
   "cell_type": "markdown",
   "metadata": {
    "colab_type": "text",
    "id": "42gFTL3qonAg"
   },
   "source": [
    "## Function 2:  Retirement Savings Calculator\n",
    "\n",
    "Build a function **`retirement_savings(PMT, i, start_age, end_age)`** that calculates your customer's savings at retirement, if they:\n",
    "- invest an amount, **`PMT`** at the end of every year (with the first payment made in exactly one year's time from now),\n",
    "- at an interest rate of **`i`**% per year, compounded annually.\n",
    "- They just turned **`start_age`** years old, and \n",
    "- they want to retire at the age of **`end_age`**\n",
    "\n",
    "<br><br>\n",
    "\n",
    "***IMPORTANT***: <br>\n",
    "Your function **may not call any of the other functions you've defined in this project** (i.e. you may not call `savings_calculator(PMT, n, i)` inside this function)\n",
    "\n",
    "You can assume that `start_age` < `end_age`, and both are positive integers."
   ]
  },
  {
   "cell_type": "code",
   "execution_count": null,
   "metadata": {
    "colab": {
     "autoexec": {
      "startup": false,
      "wait_interval": 0
     }
    },
    "colab_type": "code",
    "id": "YJ4_S0poonAk"
   },
   "outputs": [],
   "source": [
    "### START FUNCTION 2\n",
    "\n",
    "def retirement_savings(PMT, i, start_age, end_age):\n",
    "    # YOUR CODE HERE\n",
    "    # Future Value \n",
    "    Retirement_years = end_age - start_age\n",
    "    FV = PMT*((1 + i)**Retirement_years -1)/i\n",
    "    # Remember to round your answer to 2 decimal places:\n",
    "    FV = round(FV, 2)\n",
    "\n",
    "    return FV\n",
    "\n",
    "### END FUNCTION 2"
   ]
  },
  {
   "cell_type": "markdown",
   "metadata": {
    "colab_type": "text",
    "id": "DA0Ndo3qonAs"
   },
   "source": [
    "***IMPORTANT***: <br>\n",
    "Your function needs to **`return`** an `float` value ***rounded to 2 decimal places***.\n",
    "\n",
    "If your answer is not rounded correctly to 2 decimal places, you will receive 0 for the question.\n",
    "\n",
    "Make sure that the following tests all give a `True` result:"
   ]
  },
  {
   "cell_type": "code",
   "execution_count": null,
   "metadata": {
    "colab": {
     "autoexec": {
      "startup": false,
      "wait_interval": 0
     }
    },
    "colab_type": "code",
    "id": "6hY4vbnXonAx"
   },
   "outputs": [],
   "source": [
    "retirement_savings(20000, 0.1, 20, 35) == 635449.63"
   ]
  },
  {
   "cell_type": "code",
   "execution_count": null,
   "metadata": {
    "colab": {
     "autoexec": {
      "startup": false,
      "wait_interval": 0
     }
    },
    "colab_type": "code",
    "id": "dhUN8TYQonA7"
   },
   "outputs": [],
   "source": [
    "retirement_savings(10000, 0.1, 40, 60) == 572749.99"
   ]
  },
  {
   "cell_type": "markdown",
   "metadata": {
    "colab_type": "text",
    "id": "mO1S--GUq1cz"
   },
   "source": [
    "## Function 3:  Retirement Age Calculator\n",
    "\n",
    "Build a function **`retirement_age(PMT, i, FV, start_age)`** that calculates the (whole) age at which your customer can retire, if they:\n",
    "- invest an amount, **`PMT`** at the END of every YEAR (with the first payment made exactly one year from now),\n",
    "- at an interest rate of **`i`**% per year, compounded annually.\n",
    "- They require an amount of AT LEAST **`FV`** in order to be able to afford retirement.\n",
    "- They just turned **`start_age`** years old.\n",
    "\n",
    "<br><br>\n",
    "\n",
    "***IMPORTANT***: <br>\n",
    "Your function **may not call any of the other functions you've defined in this project** (i.e. you may not call `savings_calculator(PMT, n, i)` or `retirement_savings(PMT, i, start_age, end_age)` inside this function)\n",
    "\n",
    "You can assume that `start_age` is a positive integer."
   ]
  },
  {
   "cell_type": "code",
   "execution_count": null,
   "metadata": {
    "colab": {
     "autoexec": {
      "startup": false,
      "wait_interval": 0
     }
    },
    "colab_type": "code",
    "id": "28Y6c7hhq1c1"
   },
   "outputs": [],
   "source": [
    "### START FUNCTION 3\n",
    "\n",
    "def retirement_age(PMT, i, FV, start_age):\n",
    "    # YOUR CODE HERE\n",
    "    savings = 0\n",
    "    years = 0 \n",
    "    while savings < FV:\n",
    "        savings = savings + PMT\n",
    "        savings = savings + (savings * i)\n",
    "        years = years + 1\n",
    "    return (years + start_age)\n",
    "    \n",
    "### END FUNCTION 3"
   ]
  },
  {
   "cell_type": "markdown",
   "metadata": {
    "colab_type": "text",
    "id": "fuSjDPB1q1c6"
   },
   "source": [
    "***IMPORTANT***: <br>\n",
    "Your function needs to **`return`** an **`int`** value ***rounded to 2 decimal places***.\n",
    "\n",
    "If your answer is not rounded correctly to 2 decimal places, you will receive 0 for the question.\n",
    "\n",
    "Make sure that the following tests all give a `True` result:"
   ]
  },
  {
   "cell_type": "code",
   "execution_count": null,
   "metadata": {
    "colab": {
     "autoexec": {
      "startup": false,
      "wait_interval": 0
     }
    },
    "colab_type": "code",
    "id": "OcdkNDw1r-ez"
   },
   "outputs": [],
   "source": [
    "retirement_age(20000, 0.1, 635339.63, 20) == 35"
   ]
  },
  {
   "cell_type": "code",
   "execution_count": null,
   "metadata": {
    "colab": {
     "autoexec": {
      "startup": false,
      "wait_interval": 0
     }
    },
    "colab_type": "code",
    "id": "5V1yJGkKse52"
   },
   "outputs": [],
   "source": [
    "retirement_age(10000, 0.1, 572749.99, 40) == 60"
   ]
  },
  {
   "cell_type": "markdown",
   "metadata": {
    "colab_type": "text",
    "id": "fz7TNoNatBtv"
   },
   "source": [
    "## Function 4:  Home Loan Affordability Calculator\n",
    "\n",
    "Build a function **`maximum_home_loan(PMT, i, n)`** that calculates the maximum home loan that your customer can afford, if they:\n",
    "- can afford to pay an amount, **`PMT`** at the END of every YEAR (with the first payment made exactly one year from now),\n",
    "- at an interest rate of **`i`**% per year, compounded annually, and\n",
    "- pay off the home over a term of **`n`** years.\n",
    "\n",
    "<br><br>\n",
    "\n",
    "***IMPORTANT***: <br>\n",
    "Your function **may not call any of the other functions you've defined in this project** \n",
    "\n",
    "Calculate the loan as the **present value of the future down-payments on the loan, discounted at an interest rate of i% per year**. (Use the present value of an annuity formula, a.k.a. discounted cash flow valuation - https://www.investopedia.com/walkthrough/corporate-finance/3/discounted-cash-flow/introduction.aspx)"
   ]
  },
  {
   "cell_type": "code",
   "execution_count": null,
   "metadata": {
    "colab": {
     "autoexec": {
      "startup": false,
      "wait_interval": 0
     }
    },
    "colab_type": "code",
    "id": "mnK7JpmEtBtx"
   },
   "outputs": [],
   "source": [
    "### START FUNCTION 4\n",
    "\n",
    "def maximum_home_loan(PMT, i, n):\n",
    "     PV = PMT * ((1 - (1 / (1 + i)**n)) / i)\n",
    "     PV = round(PV, 2)\n",
    "     return (PV)\n",
    "### END FUNCTION 4\n",
    "print(maximum_home_loan(15000*12, 0.1045, 30))"
   ]
  },
  {
   "cell_type": "markdown",
   "metadata": {
    "colab_type": "text",
    "id": "JmHEOMGmtBt3"
   },
   "source": [
    "***IMPORTANT***: <br>\n",
    "Your function needs to **`return`** an `float` value ***correctly rounded to 2 decimal places***.\n",
    "\n",
    "If your answer is not rounded correctly to 2 decimal places, you will receive 0 for the question.\n",
    "\n",
    "Make sure that the following tests all give a `True` result:"
   ]
  },
  {
   "cell_type": "code",
   "execution_count": null,
   "metadata": {
    "colab": {
     "autoexec": {
      "startup": false,
      "wait_interval": 0
     }
    },
    "colab_type": "code",
    "id": "Itfbe5dTtBt4"
   },
   "outputs": [],
   "source": [
    "maximum_home_loan(15000*12, 0.1045, 30) == 1635153.79"
   ]
  },
  {
   "cell_type": "code",
   "execution_count": null,
   "metadata": {
    "colab": {
     "autoexec": {
      "startup": false,
      "wait_interval": 0
     }
    },
    "colab_type": "code",
    "id": "ET8esvX0tBuF"
   },
   "outputs": [],
   "source": [
    "maximum_home_loan(15000*12, 0.1045, 25) == 1578934.73"
   ]
  },
  {
   "cell_type": "markdown",
   "metadata": {
    "colab_type": "text",
    "id": "syK8HzfTYMtg"
   },
   "source": [
    "## Function 5:  Home Loan Affordability Calculator\n",
    "\n",
    "Build a function **`maximum_home_loan_with_age(PMT, i, start_age)`** that calculates the maximum home loan that your customer can afford, if they:\n",
    "- can afford to pay an amount, **`PMT`** at the every year on their birthday (starting from their next birthday),\n",
    "- at an interest rate of **`i`**% per year, compounded annually, \n",
    "- they just turned **`n`** years old, and they\n",
    "- pay off the loan until they turn **`65 years old`**.  I.e. their last payment is on their 65th birthday.\n",
    "\n",
    "<br><br>\n",
    "\n",
    "***IMPORTANT***: <br>\n",
    "Your function **may not call any of the other functions you've defined in this project**.\n",
    "\n",
    "Assume that **`start_age`** is an `int` value, and **`start_age < 65`**.\n",
    "\n",
    "\n",
    "Just like in Function 4, calculate the loan as the **present value of the future down-payments on the loan, discounted at an interest rate of i% per year**. (Use the present value of an annuity formula, a.k.a. discounted cash flow valuation - https://www.investopedia.com/walkthrough/corporate-finance/3/discounted-cash-flow/introduction.aspx)"
   ]
  },
  {
   "cell_type": "code",
   "execution_count": null,
   "metadata": {
    "colab": {
     "autoexec": {
      "startup": false,
      "wait_interval": 0
     }
    },
    "colab_type": "code",
    "id": "nI5bnhw_YMtm"
   },
   "outputs": [],
   "source": [
    "### START FUNCTION 5\n",
    "\n",
    "def maximum_home_loan_with_age(PMT, i, start_age):\n",
    "    # YOUR CODE HERE\n",
    "        time = 65 - start_age \n",
    "        total_present_value = PMT * ((1 - (1 / (1 + i)**time)) / i)\n",
    "        \n",
    "        PV = round(total_present_value, 2)\n",
    "        return PV\n",
    "### END FUNCTION 5"
   ]
  },
  {
   "cell_type": "markdown",
   "metadata": {
    "colab_type": "text",
    "id": "VPyg4hufYMty"
   },
   "source": [
    "***IMPORTANT***: <br>\n",
    "Your function needs to **`return`** an `float` value ***correctly rounded to 2 decimal places***.\n",
    "\n",
    "If your answer is not rounded correctly to 2 decimal places, you will receive 0 for the question.\n",
    "\n",
    "Make sure that the following tests all give a `True` result:"
   ]
  },
  {
   "cell_type": "code",
   "execution_count": null,
   "metadata": {
    "colab": {
     "autoexec": {
      "startup": false,
      "wait_interval": 0
     }
    },
    "colab_type": "code",
    "id": "I0zJEUcwYMt2"
   },
   "outputs": [],
   "source": [
    "maximum_home_loan_with_age(15000*12, 0.1045, 35)  == 1635153.79"
   ]
  },
  {
   "cell_type": "code",
   "execution_count": null,
   "metadata": {
    "colab": {
     "autoexec": {
      "startup": false,
      "wait_interval": 0
     }
    },
    "colab_type": "code",
    "id": "2ld9DE8dYMuE"
   },
   "outputs": [],
   "source": [
    "maximum_home_loan_with_age(15000*12, 0.1045, 40) == 1578934.73"
   ]
  }
 ],
 "metadata": {
  "colab": {
   "collapsed_sections": [],
   "default_view": {},
   "name": "Project_Student.ipynb",
   "provenance": [],
   "version": "0.3.2",
   "views": {}
  },
  "kernelspec": {
   "display_name": "Python 3",
   "language": "python",
   "name": "python3"
  },
  "language_info": {
   "codemirror_mode": {
    "name": "ipython",
    "version": 3
   },
   "file_extension": ".py",
   "mimetype": "text/x-python",
   "name": "python",
   "nbconvert_exporter": "python",
   "pygments_lexer": "ipython3",
   "version": "3.6.4"
  }
 },
 "nbformat": 4,
 "nbformat_minor": 1
}
